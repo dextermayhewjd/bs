{
 "cells": [
  {
   "cell_type": "code",
   "execution_count": 1,
   "id": "4e710490",
   "metadata": {},
   "outputs": [],
   "source": [
    "import json\n",
    "import subprocess\n"
   ]
  },
  {
   "cell_type": "code",
   "execution_count": 9,
   "id": "b5dd1b03",
   "metadata": {},
   "outputs": [],
   "source": [
    "def get_video_duration(video_file):\n",
    "    cmd = ['ffprobe', '-v', 'error', '-show_entries', 'format=duration', '-of', 'default=noprint_wrappers=1:nokey=1', video_file]\n",
    "    result = subprocess.run(cmd, stdout=subprocess.PIPE, stderr=subprocess.STDOUT, text=True)\n",
    "    duration = float(result.stdout.strip())\n",
    "    return duration"
   ]
  },
  {
   "cell_type": "code",
   "execution_count": 10,
   "id": "fb023ee0",
   "metadata": {},
   "outputs": [],
   "source": [
    "def extract_clip(video_file, start_time, duration, output_filename):\n",
    "    command = ['ffmpeg', '-ss', str(start_time), '-i', video_file, '-t', str(duration), '-c', 'copy', output_filename]\n",
    "    subprocess.run(command)\n",
    "    print(f\"Extracted clip: {output_filename}\")"
   ]
  },
  {
   "cell_type": "code",
   "execution_count": 8,
   "id": "1fb987f5",
   "metadata": {},
   "outputs": [],
   "source": [
    "def extract_clips_and_labels(json_file, video_file, output_folder, clip_length=5.0):\n",
    "    with open(json_file, 'r') as file:\n",
    "        data = json.load(file)\n",
    "    for metadata_id, metadata_info in data[\"metadata\"].items():\n",
    "        start_time, end_time = metadata_info[\"z\"]\n",
    "        action_labels = '_'.join([label for label in metadata_info[\"av\"].values()])\n",
    "        duration = end_time - start_time\n",
    "\n",
    "        # 确定是否需要向前或向后扩展\n",
    "        if duration < clip_length:\n",
    "            # 计算额外需要的时间\n",
    "            extra_time_needed = clip_length - duration\n",
    "            half_extra_time = extra_time_needed / 2\n",
    "\n",
    "            # 调整开始和结束时间，以确保视频片段总长度为5秒\n",
    "            adjusted_start_time = max(0, start_time - half_extra_time)\n",
    "            adjusted_end_time = adjusted_start_time + clip_length\n",
    "\n",
    "            # 如果调整后的结束时间超过视频本身的长度，需要向前移动开始和结束时间\n",
    "            # 假设 total_video_length 是视频的总长度\n",
    "            if adjusted_end_time > total_video_length:\n",
    "                adjusted_end_time = min(total_video_length, end_time + half_extra_time)\n",
    "                adjusted_start_time = adjusted_end_time - clip_length\n",
    "\n",
    "            output_filename = f\"{output_folder}/{metadata_id}_{action_labels}.mp4\"\n",
    "            extract_clip(video_file, adjusted_start_time, clip_length, output_filename)\n",
    "\n",
    "        else:\n",
    "            #对于超过5秒的动作，这里可以插入之前讨论的逻辑进行处理"
   ]
  },
  {
   "cell_type": "code",
   "execution_count": null,
   "id": "93d528ad",
   "metadata": {},
   "outputs": [],
   "source": []
  }
 ],
 "metadata": {
  "kernelspec": {
   "display_name": "Python 3 (ipykernel)",
   "language": "python",
   "name": "python3"
  },
  "language_info": {
   "codemirror_mode": {
    "name": "ipython",
    "version": 3
   },
   "file_extension": ".py",
   "mimetype": "text/x-python",
   "name": "python",
   "nbconvert_exporter": "python",
   "pygments_lexer": "ipython3",
   "version": "3.11.5"
  }
 },
 "nbformat": 4,
 "nbformat_minor": 5
}
