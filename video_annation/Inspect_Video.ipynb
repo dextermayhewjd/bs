{
 "cells": [
  {
   "cell_type": "code",
   "execution_count": 5,
   "id": "8533c92c",
   "metadata": {},
   "outputs": [
    {
     "name": "stdout",
     "output_type": "stream",
     "text": [
      "Current FFmpeg version: ffmpeg version 7.0.1 Copyright (c) 2000-2024 the FFmpeg developers\r\n"
     ]
    }
   ],
   "source": [
    "import subprocess\n",
    "\n",
    "def get_ffmpeg_version():\n",
    "    try:\n",
    "        # 使用subprocess模块调用ffmpeg -version命令\n",
    "        result = subprocess.run(['ffmpeg', '-version'], stdout=subprocess.PIPE, stderr=subprocess.PIPE)\n",
    "        # 解码输出结果\n",
    "        output = result.stdout.decode('utf-8')\n",
    "        # 获取版本信息（输出的第一行）\n",
    "        version_line = output.split('\\n')[0]\n",
    "        # 打印版本信息\n",
    "        print(f\"Current FFmpeg version: {version_line}\")\n",
    "    except Exception as e:\n",
    "        print(f\"Error: {e}\")\n",
    "\n",
    "# 调用函数打印FFmpeg版本\n",
    "get_ffmpeg_version()\n"
   ]
  },
  {
   "cell_type": "code",
   "execution_count": null,
   "id": "24d0b01e",
   "metadata": {},
   "outputs": [],
   "source": [
    "\n"
   ]
  },
  {
   "cell_type": "code",
   "execution_count": 6,
   "id": "e716eb75",
   "metadata": {},
   "outputs": [
    {
     "name": "stdout",
     "output_type": "stream",
     "text": [
      "I帧的出现频率是固定的，平均间隔为 20.0 帧。\n"
     ]
    }
   ],
   "source": [
    "import subprocess\n",
    "\n",
    "def check_iframe_consistency(video_path):\n",
    "    command = [\n",
    "        'ffprobe',\n",
    "        '-v', 'error',\n",
    "        '-select_streams', 'v:0',\n",
    "        '-show_frames',\n",
    "        '-show_entries', 'frame=pict_type',\n",
    "        '-of', 'csv',\n",
    "        video_path\n",
    "    ]\n",
    "    \n",
    "    result = subprocess.run(command, stdout=subprocess.PIPE, stderr=subprocess.PIPE, universal_newlines=True)\n",
    "    \n",
    "    # 解析输出，记录I帧的位置\n",
    "    iframe_positions = []\n",
    "    frame_count = 0\n",
    "    \n",
    "    for line in result.stdout.splitlines():\n",
    "        if 'I' in line:\n",
    "            iframe_positions.append(frame_count)\n",
    "        frame_count += 1\n",
    "    \n",
    "    # 检查I帧间隔是否一致\n",
    "    if len(iframe_positions) > 1:\n",
    "        intervals = [iframe_positions[i] - iframe_positions[i-1] for i in range(1, len(iframe_positions))]\n",
    "        average_interval = sum(intervals) / len(intervals)\n",
    "        consistent = all(interval == intervals[0] for interval in intervals)\n",
    "        return average_interval, consistent, intervals\n",
    "    else:\n",
    "        return None, False, []\n",
    "#check\n",
    "video_path = r'D:\\小狗视频\\2月\\20240202kt\\020500.mp4'\n",
    "average_interval, consistent, intervals = check_iframe_consistency(video_path)\n",
    "\n",
    "if consistent:\n",
    "    print(f\"I帧的出现频率是固定的，平均间隔为 {average_interval} 帧。\")\n",
    "else:\n",
    "    print(f\"I帧的出现频率不是固定的。平均间隔为 {average_interval} 帧，具体间隔为: {intervals}\")\n",
    "\n"
   ]
  },
  {
   "cell_type": "code",
   "execution_count": 7,
   "id": "febe3707",
   "metadata": {},
   "outputs": [
    {
     "name": "stdout",
     "output_type": "stream",
     "text": [
      "I帧的出现频率是固定的，每20帧出现一个I帧。\n"
     ]
    }
   ],
   "source": [
    "import subprocess\n",
    "\n",
    "def check_iframe_frequency(video_path, expected_interval):\n",
    "    command = [\n",
    "        'ffprobe',\n",
    "        '-v', 'error',\n",
    "        '-select_streams', 'v:0',\n",
    "        '-show_frames',\n",
    "        '-show_entries', 'frame=pict_type',\n",
    "        '-of', 'csv',\n",
    "        video_path\n",
    "    ]\n",
    "    \n",
    "    result = subprocess.run(command, stdout=subprocess.PIPE, stderr=subprocess.PIPE, universal_newlines=True)\n",
    "    \n",
    "    # 解析输出，记录I帧的位置\n",
    "    iframe_positions = []\n",
    "    frame_count = 0\n",
    "    \n",
    "    for line in result.stdout.splitlines():\n",
    "        if 'I' in line:\n",
    "            iframe_positions.append(frame_count)\n",
    "        frame_count += 1\n",
    "    \n",
    "    # 检查I帧间隔是否一致且为预期的间隔\n",
    "    if len(iframe_positions) > 1:\n",
    "        intervals = [iframe_positions[i] - iframe_positions[i-1] for i in range(1, len(iframe_positions))]\n",
    "        consistent = all(interval == expected_interval for interval in intervals)\n",
    "        return consistent, intervals\n",
    "    else:\n",
    "        return False, []\n",
    "\n",
    "# check \n",
    "video_path = r'D:\\小狗视频\\2月\\20240202kt\\020500.mp4'\n",
    "expected_interval = 20  # 预期的I帧间隔为20帧\n",
    "consistent, intervals = check_iframe_frequency(video_path, expected_interval)\n",
    "\n",
    "if consistent:\n",
    "    print(f\"I帧的出现频率是固定的，每{expected_interval}帧出现一个I帧。\")\n",
    "else:\n",
    "    print(f\"I帧的出现频率不是固定的。具体间隔为: {intervals}\")\n"
   ]
  },
  {
   "cell_type": "code",
   "execution_count": 6,
   "id": "be603a65",
   "metadata": {},
   "outputs": [
    {
     "name": "stdout",
     "output_type": "stream",
     "text": [
      "视频片段已保存为: D:\\小狗视频\\2月\\20240202kt_trial\\020500_segment.mp4\n"
     ]
    }
   ],
   "source": [
    "\n",
    "#有问题\n",
    "# def extract_frames_by_time(input_path, output_path, start_time, duration, frame_rate):\n",
    "#     # 计算起始帧和结束帧\n",
    "#     start_frame = int(start_time * frame_rate)\n",
    "#     end_frame = int((start_time + duration) * frame_rate) - 1\n",
    "    \n",
    "#     # 构建FFmpeg命令\n",
    "#     command = [\n",
    "#         'ffmpeg',\n",
    "#         '-i', input_path,\n",
    "#         '-vf', f\"select='between(n\\\\,{start_frame}\\\\,{end_frame})'\",\n",
    "#         '-vsync', 'vfr',\n",
    "#         output_path\n",
    "#     ]\n",
    "    \n",
    "#     # 执行FFmpeg命令\n",
    "#     subprocess.run(command, check=True)\n",
    "    \n",
    "#     print(f\"视频片段已保存为: {output_path}\")\n",
    "\n",
    "# # 示例用法\n",
    "# input_video_path = r'D:\\小狗视频\\2月\\20240202kt\\020500.mp4'\n",
    "# output_video_path = r'D:\\小狗视频\\2月\\20240202kt_trial\\020500_segment.mp4'\n",
    "# start_time = 9  # 从第9秒开始\n",
    "# duration = 4    # 持续4秒\n",
    "# frame_rate = 20 # 视频帧率\n",
    "\n",
    "# extract_frames_by_time(input_video_path, output_video_path, start_time, duration, frame_rate)\n"
   ]
  },
  {
   "cell_type": "code",
   "execution_count": 8,
   "id": "c6aec179",
   "metadata": {},
   "outputs": [
    {
     "name": "stdout",
     "output_type": "stream",
     "text": [
      "视频总帧数: 1200\n"
     ]
    }
   ],
   "source": [
    "import subprocess\n",
    "\n",
    "def get_total_frames(video_path):\n",
    "    command = [\n",
    "        'ffprobe',\n",
    "        '-v', 'error',\n",
    "        '-select_streams', 'v:0',\n",
    "        '-count_frames',\n",
    "        '-show_entries', 'stream=nb_read_frames',\n",
    "        '-print_format', 'default=nokey=1:noprint_wrappers=1',\n",
    "        video_path\n",
    "    ]\n",
    "    \n",
    "    result = subprocess.run(command, stdout=subprocess.PIPE, stderr=subprocess.PIPE, universal_newlines=True)\n",
    "    total_frames = int(result.stdout.strip())\n",
    "    return total_frames\n",
    "\n",
    "# 示例用法\n",
    "video_path = r'D:\\小狗视频\\2月\\20240202kt\\020500.mp4'\n",
    "total_frames = get_total_frames(video_path)\n",
    "print(f\"视频总帧数: {total_frames}\")\n"
   ]
  },
  {
   "cell_type": "code",
   "execution_count": 9,
   "id": "f715a677",
   "metadata": {},
   "outputs": [
    {
     "name": "stdout",
     "output_type": "stream",
     "text": [
      "I帧位于以下帧位置: [0, 20, 40, 60, 80, 100, 120, 140, 160, 180, 200, 220, 240, 260, 280, 300, 320, 340, 360, 380, 400, 420, 440, 460, 480, 500, 520, 540, 560, 580, 600, 620, 640, 660, 680, 700, 720, 740, 760, 780, 800, 820, 840, 860, 880, 900, 920, 940, 960, 980, 1000, 1020, 1040, 1060, 1080, 1100, 1120, 1140, 1160, 1180]\n"
     ]
    }
   ],
   "source": [
    "import subprocess\n",
    "\n",
    "def get_iframe_positions(video_path):\n",
    "    command = [\n",
    "        'ffprobe',\n",
    "        '-v', 'error',\n",
    "        '-select_streams', 'v:0',\n",
    "        '-show_frames',\n",
    "        '-show_entries', 'frame=pict_type,pkt_pts_time',\n",
    "        '-print_format', 'csv'\n",
    "    ]\n",
    "    \n",
    "    result = subprocess.run(command + [video_path], stdout=subprocess.PIPE, stderr=subprocess.PIPE, universal_newlines=True)\n",
    "    \n",
    "    iframe_positions = []\n",
    "    frame_count = 0\n",
    "    \n",
    "    for line in result.stdout.splitlines():\n",
    "        if 'I' in line:\n",
    "            iframe_positions.append(frame_count)\n",
    "        frame_count += 1\n",
    "    \n",
    "    return iframe_positions\n",
    "\n",
    "# 示例用法\n",
    "video_path = r'D:\\小狗视频\\2月\\20240202kt\\020500.mp4'\n",
    "iframe_positions = get_iframe_positions(video_path)\n",
    "print(f\"I帧位于以下帧位置: {iframe_positions}\")\n"
   ]
  },
  {
   "cell_type": "code",
   "execution_count": null,
   "id": "a5ba03ff",
   "metadata": {},
   "outputs": [],
   "source": []
  },
  {
   "cell_type": "code",
   "execution_count": null,
   "id": "24c2bb8c",
   "metadata": {},
   "outputs": [],
   "source": [
    "import subprocess\n",
    "\n",
    "# 定义输入文件和输出文件路径\n",
    "input_file = \"input.mp4\"\n",
    "output_file = \"output.mp4\"\n",
    "\n",
    "# 定义FFmpeg命令\n",
    "ffmpeg_command = [\n",
    "    \"ffmpeg\",\n",
    "    \"-ss\", \"00:00:09.05\",    # 开始时间\n",
    "    \"-i\", input_file,        # 输入文件\n",
    "    \"-vf\", \"fps=20\",         # 输出帧率\n",
    "    \"-frames:v\", \"80\",       # 截取80个帧\n",
    "    \"-c:v\", \"libx264\",       # 视频编码器\n",
    "    \"-c:a\", \"aac\",           # 音频编码器\n",
    "    \"-strict\", \"experimental\",  # 允许使用实验性编码器（如果需要）\n",
    "    output_file              # 输出文件\n",
    "]\n",
    "\n",
    "# 运行FFmpeg命令\n",
    "subprocess.run(ffmpeg_command)\n"
   ]
  },
  {
   "cell_type": "code",
   "execution_count": null,
   "id": "6a183c5b",
   "metadata": {},
   "outputs": [],
   "source": [
    "ffmpeg\n",
    "-ss 9.05 \n",
    "-i input.mp4 \n",
    "-t 4 \n",
    "-c:v libx264 \n",
    "-crf 18 -preset fast \n",
    "-an \n",
    "-force_key_frames \"expr:gte(t,n_forced*0.5)\" \n",
    "final_output.mp4\n"
   ]
  },
  {
   "cell_type": "code",
   "execution_count": 14,
   "id": "b0055eef",
   "metadata": {},
   "outputs": [],
   "source": [
    "# Define the input file path\n",
    "input_file = r'D:\\小狗视频\\2月\\20240202kt\\020500.mp4'\n",
    "# Define the start time, duration, frame rate, and output file path\n",
    "start_time = 9.05  # start time in seconds\n",
    "duration = 4  # duration in seconds\n",
    "frame_rate = 20  # desired frame rate\n",
    "output_file = r'D:\\小狗视频\\2月\\20240202kt_trial\\final_output.mp4'"
   ]
  },
  {
   "cell_type": "code",
   "execution_count": 15,
   "id": "9c32b4f4",
   "metadata": {},
   "outputs": [],
   "source": [
    "import subprocess\n",
    "\n",
    "def precise_clip(input_file, start_time, duration, output_file, frame_rate):\n",
    "    # Construct the FFmpeg command\n",
    "    ffmpeg_command = [\n",
    "        \"ffmpeg\", \n",
    "        \"-ss\", str(start_time),  # Set the start time\n",
    "        \"-i\", input_file,  # Input file\n",
    "        \"-t\", str(duration),  # Duration of the clip\n",
    "        \"-r\", str(frame_rate),  # Set the frame rate\n",
    "        \"-c:v\", \"libx264\",  # Video codec\n",
    "        \"-crf\", \"18\",  # Constant rate factor for quality\n",
    "        \"-preset\", \"fast\",  # Encoding preset\n",
    "        \"-an\",  # Remove audio\n",
    "        output_file  # Output file\n",
    "    ]\n",
    "    \n",
    "    # Run the command\n",
    "    subprocess.run(ffmpeg_command, check=True)\n",
    "# Run the precise clipping function\n",
    "precise_clip(input_file, start_time, duration, output_file, frame_rate)\n"
   ]
  },
  {
   "cell_type": "code",
   "execution_count": 14,
   "id": "df736036",
   "metadata": {},
   "outputs": [],
   "source": []
  },
  {
   "cell_type": "code",
   "execution_count": null,
   "id": "2ff4b84b",
   "metadata": {},
   "outputs": [],
   "source": []
  }
 ],
 "metadata": {
  "kernelspec": {
   "display_name": "Python 3 (ipykernel)",
   "language": "python",
   "name": "python3"
  },
  "language_info": {
   "codemirror_mode": {
    "name": "ipython",
    "version": 3
   },
   "file_extension": ".py",
   "mimetype": "text/x-python",
   "name": "python",
   "nbconvert_exporter": "python",
   "pygments_lexer": "ipython3",
   "version": "3.11.3"
  }
 },
 "nbformat": 4,
 "nbformat_minor": 5
}
